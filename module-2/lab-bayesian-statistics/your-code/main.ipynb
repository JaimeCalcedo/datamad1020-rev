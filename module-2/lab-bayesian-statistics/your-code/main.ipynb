{
 "cells": [
  {
   "cell_type": "markdown",
   "metadata": {},
   "source": [
    "# Intro to Bayesian Statistics Lab\n",
    "\n",
    "Complete the following set of exercises to solidify your knowledge of Bayesian statistics and Bayesian data analysis."
   ]
  },
  {
   "cell_type": "code",
   "execution_count": null,
   "metadata": {},
   "outputs": [],
   "source": [
    "import pandas as pd\n",
    "import numpy as np\n",
    "import matplotlib.pyplot as plt"
   ]
  },
  {
   "cell_type": "markdown",
   "metadata": {},
   "source": [
    "## 1. Cookie Problem\n",
    "\n",
    "Suppose we have two bowls of cookies. Bowl 1 contains 30 vanilla cookies and 10 chocolate cookies. Bowl 2 contains 20 of each. You randomly pick one cookie out of one of the bowls, and it is vanilla. Use Bayes Theorem to calculate the probability that the vanilla cookie you picked came from Bowl 1?"
   ]
  },
  {
   "cell_type": "code",
   "execution_count": 6,
   "metadata": {},
   "outputs": [
    {
     "data": {
      "text/plain": [
       "0.6"
      ]
     },
     "execution_count": 6,
     "metadata": {},
     "output_type": "execute_result"
    }
   ],
   "source": [
    "prob_V = (0.5*0.75) + (0.5*0.5)\n",
    "prob_C = (0.5*0.25) + (0.5*0.5)\n",
    "prob_1 = 0.5\n",
    "prob_2 = 0.5\n",
    "prob_v_1 = 0.75\n",
    "prob_v_2 = 0.5\n",
    "prob_c_1 = 0.25\n",
    "prob_c_2 = 0.5\n",
    "\n",
    "#BAYES\n",
    "\n",
    "prob_1_v = (prob_1*prob_v_1)/((prob_1*prob_v_1) + (prob_2*prob_v_2))\n",
    "prob_1_v"
   ]
  },
  {
   "cell_type": "markdown",
   "metadata": {},
   "source": [
    "What is the probability that it came from Bowl 2?"
   ]
  },
  {
   "cell_type": "code",
   "execution_count": 7,
   "metadata": {},
   "outputs": [
    {
     "data": {
      "text/plain": [
       "0.4"
      ]
     },
     "execution_count": 7,
     "metadata": {},
     "output_type": "execute_result"
    }
   ],
   "source": [
    "prob_2_v = (prob_2*prob_v_2)/((prob_1*prob_v_1) + (prob_2*prob_v_2))\n",
    "prob_2_v"
   ]
  },
  {
   "cell_type": "markdown",
   "metadata": {},
   "source": [
    "What if the cookie you had picked was chocolate? What are the probabilities that the chocolate cookie came from Bowl 1 and Bowl 2 respectively?"
   ]
  },
  {
   "cell_type": "code",
   "execution_count": 13,
   "metadata": {},
   "outputs": [
    {
     "name": "stdout",
     "output_type": "stream",
     "text": [
      "Bowl 1: 0.3333333333333333\n",
      "Bowl 2: 0.6666666666666666\n"
     ]
    }
   ],
   "source": [
    "prob_1_c = (prob_1*prob_c_1)/((prob_1*prob_c_1) + (prob_2*prob_c_2))\n",
    "prob_2_c = (prob_2*prob_c_2)/((prob_1*prob_c_1) + (prob_2*prob_c_2))\n",
    "print(\"Bowl 1:\", prob_1_c)\n",
    "print(\"Bowl 2:\", prob_2_c)"
   ]
  },
  {
   "cell_type": "markdown",
   "metadata": {},
   "source": [
    "## 2. Candy Problem\n",
    "\n",
    "Suppose you have two bags of candies:\n",
    "\n",
    "- In Bag 1, the mix of colors is:\n",
    "    - Brown - 30%\n",
    "    - Yellow - 20%\n",
    "    - Red - 20%\n",
    "    - Green - 10%\n",
    "    - Orange - 10%\n",
    "    - Tan - 10%\n",
    "    \n",
    "- In Bag 2, the mix of colors is:\n",
    "    - Blue - 24%\n",
    "    - Green - 20%\n",
    "    - Orange - 16%\n",
    "    - Yellow - 14%\n",
    "    - Red - 13%\n",
    "    - Brown - 13%\n",
    "    \n",
    "Not knowing which bag is which, you randomly draw one candy from each bag. One is yellow and one is green. What is the probability that the yellow one came from the Bag 1?\n",
    "\n",
    "*Hint: For the likelihoods, you will need to multiply the probabilities of drawing yellow from one bag and green from the other bag and vice versa.*"
   ]
  },
  {
   "cell_type": "code",
   "execution_count": 3,
   "metadata": {},
   "outputs": [
    {
     "data": {
      "text/plain": [
       "0.5882352941176471"
      ]
     },
     "execution_count": 3,
     "metadata": {},
     "output_type": "execute_result"
    }
   ],
   "source": [
    "prob_bag1 = 0.5\n",
    "prob_bag2 = 0.5\n",
    "prob_B_bag1 = 0.3\n",
    "prob_Y_bag1 = 0.2\n",
    "prob_R_bag1 = 0.2\n",
    "prob_G_bag1 = 0.1\n",
    "prob_O_bag1 = 0.1\n",
    "prob_T_bag1 = 0.1\n",
    "\n",
    "prob_Blue_bag2 = 0.24\n",
    "prob_G_bag2 = 0.2\n",
    "prob_O_bag2 = 0.16\n",
    "prob_Y_bag2 = 0.14\n",
    "prob_R_bag2 = 0.13\n",
    "prob_B_bag2 = 0.13\n",
    "\n",
    "#BAYES\n",
    "#Yellow one came from the Bag1\n",
    "prob_bag1_Y = (prob_bag1*prob_Y_bag1)/((prob_bag1*prob_Y_bag1) + (prob_bag2*prob_Y_bag2))\n",
    "prob_bag1_Y\n"
   ]
  },
  {
   "cell_type": "markdown",
   "metadata": {},
   "source": [
    "What is the probability that the yellow candy came from Bag 2?"
   ]
  },
  {
   "cell_type": "code",
   "execution_count": 4,
   "metadata": {},
   "outputs": [
    {
     "data": {
      "text/plain": [
       "0.411764705882353"
      ]
     },
     "execution_count": 4,
     "metadata": {},
     "output_type": "execute_result"
    }
   ],
   "source": [
    "prob_bag2_Y = (prob_bag2*prob_Y_bag2)/((prob_bag2*prob_Y_bag2) + (prob_bag1*prob_Y_bag1))\n",
    "prob_bag2_Y"
   ]
  },
  {
   "cell_type": "markdown",
   "metadata": {},
   "source": [
    "What are the probabilities that the green one came from Bag 1 and Bag 2 respectively?"
   ]
  },
  {
   "cell_type": "code",
   "execution_count": 6,
   "metadata": {},
   "outputs": [
    {
     "name": "stdout",
     "output_type": "stream",
     "text": [
      "Bag 1: 0.3333333333333333\n",
      "Bag 2: 0.6666666666666666\n"
     ]
    }
   ],
   "source": [
    "prob_bag1_G = (prob_bag1*prob_G_bag1)/((prob_bag1*prob_G_bag1) + (prob_bag2*prob_G_bag2))\n",
    "prob_bag2_G = (prob_bag2*prob_G_bag2)/((prob_bag2*prob_G_bag2) + (prob_bag1*prob_G_bag1))\n",
    "\n",
    "print(\"Bag 1:\", prob_bag1_G)\n",
    "print(\"Bag 2:\", prob_bag2_G)"
   ]
  },
  {
   "cell_type": "markdown",
   "metadata": {},
   "source": [
    "## 3. Monty Hall Problem\n",
    "\n",
    "Suppose you are a contestant on the popular game show *Let's Make a Deal*. The host of the show (Monty Hall) presents you with three doors - Door A, Door B, and Door C. He tells you that there is a sports car behind one of them and if you choose the correct one, you win the car!\n",
    "\n",
    "You select Door A, but then Monty makes things a little more interesting. He opens Door B to reveal that there is no sports car behind it and asks you if you would like to stick with your choice of Door A or switch your choice to Door C. Given this new information, what are the probabilities of you winning the car if you stick with Door A versus if you switch to Door C?"
   ]
  },
  {
   "cell_type": "code",
   "execution_count": null,
   "metadata": {},
   "outputs": [],
   "source": [
    "p_car = 1/3\n",
    "p_nothing = 1/3\n",
    "p_nothing2 = 1/3\n",
    "\n",
    "#Si no cambia de puerta lógicamente tendrá el 1/3 inicial\n",
    "\n",
    "#Una vez abre el presentador una puerta vacía nos quedamos con dos puertas.\n",
    "p_nuestra_puerta = 1/3 #Igual que antes, el presentador nunca la abriría tenga el coche o no\n",
    "p_otra_puerta = 2/3 \n",
    "#Si has elegido la correcta al cambiar perderas 1/3 de las veces\n",
    "#Si has elegido la incorrecta 2/3 de las veces, al abrirte una vacía el presentador, siempre al cambiar vas a ir al coche.\n"
   ]
  },
  {
   "cell_type": "markdown",
   "metadata": {},
   "source": [
    "## 4. Bayesian Analysis \n",
    "\n",
    "Suppose you work for a landscaping company, and they want to advertise their service online. They create an ad and sit back waiting for the money to roll in. On the first day, the ad sends 100 visitors to the site and 14 of them sign up for landscaping services. Create a generative model to come up with the posterior distribution and produce a visualization of what the posterior distribution would look like given the observed data."
   ]
  },
  {
   "cell_type": "code",
   "execution_count": null,
   "metadata": {},
   "outputs": [],
   "source": []
  },
  {
   "cell_type": "markdown",
   "metadata": {},
   "source": [
    "Produce a set of descriptive statistics for the posterior distribution."
   ]
  },
  {
   "cell_type": "code",
   "execution_count": null,
   "metadata": {},
   "outputs": [],
   "source": []
  },
  {
   "cell_type": "markdown",
   "metadata": {},
   "source": [
    "What is the 90% credible interval range?"
   ]
  },
  {
   "cell_type": "code",
   "execution_count": null,
   "metadata": {},
   "outputs": [],
   "source": []
  },
  {
   "cell_type": "markdown",
   "metadata": {},
   "source": [
    "What is the Maximum Likelihood Estimate?"
   ]
  },
  {
   "cell_type": "code",
   "execution_count": null,
   "metadata": {},
   "outputs": [],
   "source": []
  }
 ],
 "metadata": {
  "kernelspec": {
   "display_name": "Python 3",
   "language": "python",
   "name": "python3"
  },
  "language_info": {
   "codemirror_mode": {
    "name": "ipython",
    "version": 3
   },
   "file_extension": ".py",
   "mimetype": "text/x-python",
   "name": "python",
   "nbconvert_exporter": "python",
   "pygments_lexer": "ipython3",
   "version": "3.8.5"
  }
 },
 "nbformat": 4,
 "nbformat_minor": 2
}
